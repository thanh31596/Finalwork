{
 "cells": [
  {
   "cell_type": "code",
   "execution_count": 1,
   "metadata": {},
   "outputs": [],
   "source": [
    "from selenium.common.exceptions import NoSuchElementException, ElementClickInterceptedException\n",
    "from selenium import webdriver\n",
    "import time\n",
    "import pandas as pd\n",
    "\n",
    "\n",
    "def get_jobs(keyword, num_jobs, verbose, path, slp_time):\n",
    "    \n",
    "    '''Gathers jobs as a dataframe, scraped from Glassdoor'''\n",
    "    \n",
    "    #Initializing the webdriver\n",
    "    options = webdriver.ChromeOptions()\n",
    "    \n",
    "    #Uncomment the line below if you'd like to scrape without a new Chrome window every time.\n",
    "    #options.add_argument('headless')\n",
    "    \n",
    "    #Change the path to where chromedriver is in your home folder.\n",
    "    driver = webdriver.Chrome(executable_path=path, options=options)\n",
    "    driver.set_window_size(1120, 1000)\n",
    "    \n",
    "    url = \"https://www.glassdoor.com/Job/jobs.htm?suggestCount=0&suggestChosen=false&clickSource=searchBtn&typedKeyword=\"+keyword+\"&sc.keyword=\"+keyword+\"&locT=&locId=&jobType=\"\n",
    "    #url = 'https://www.glassdoor.com/Job/jobs.htm?sc.keyword=\"' + keyword + '\"&locT=C&locId=1147401&locKeyword=San%20Francisco,%20CA&jobType=all&fromAge=-1&minSalary=0&includeNoSalaryJobs=true&radius=100&cityId=-1&minRating=0.0&industryId=-1&sgocId=-1&seniorityType=all&companyId=-1&employerSizes=0&applicationType=0&remoteWorkType=0'\n",
    "    driver.get(url)\n",
    "    jobs = []\n",
    "\n",
    "    while len(jobs) < num_jobs:  #If true, should be still looking for new jobs.\n",
    "\n",
    "        #Let the page load. Change this number based on your internet speed.\n",
    "        #Or, wait until the webpage is loaded, instead of hardcoding it.\n",
    "        time.sleep(slp_time)\n",
    "\n",
    "        #Test for the \"Sign Up\" prompt and get rid of it.\n",
    "        try:\n",
    "            driver.find_element_by_class_name(\"selected\").click()\n",
    "        except ElementClickInterceptedException:\n",
    "            pass\n",
    "\n",
    "        time.sleep(.1)\n",
    "\n",
    "        try:\n",
    "            driver.find_element_by_css_selector('[alt=\"Close\"]').click() #clicking to the X.\n",
    "            print(' x out worked')\n",
    "        except NoSuchElementException:\n",
    "            print(' x out failed')\n",
    "            pass\n",
    "\n",
    "        \n",
    "        #Going through each job in this page\n",
    "        job_buttons = driver.find_elements_by_class_name(\"jl\")  #jl for Job Listing. These are the buttons we're going to click.\n",
    "        for job_button in job_buttons:  \n",
    "\n",
    "            print(\"Progress: {}\".format(\"\" + str(len(jobs)) + \"/\" + str(num_jobs)))\n",
    "            if len(jobs) >= num_jobs:\n",
    "                break\n",
    "\n",
    "            job_button.click()  #You might \n",
    "            time.sleep(1)\n",
    "            collected_successfully = False\n",
    "            \n",
    "            while not collected_successfully:\n",
    "                try:\n",
    "                    company_name = driver.find_element_by_xpath('.//div[@class=\"employerName\"]').text\n",
    "                    location = driver.find_element_by_xpath('.//div[@class=\"location\"]').text\n",
    "                    job_title = driver.find_element_by_xpath('.//div[contains(@class, \"title\")]').text\n",
    "                    job_description = driver.find_element_by_xpath('.//div[@class=\"jobDescriptionContent desc\"]').text\n",
    "                    collected_successfully = True\n",
    "                except:\n",
    "                    time.sleep(5)\n",
    "\n",
    "            try:\n",
    "                salary_estimate = driver.find_element_by_xpath('.//span[@class=\"gray salary\"]').text\n",
    "            except NoSuchElementException:\n",
    "                salary_estimate = -1 #You need to set a \"not found value. It's important.\"\n",
    "            \n",
    "            try:\n",
    "                rating = driver.find_element_by_xpath('.//span[@class=\"rating\"]').text\n",
    "            except NoSuchElementException:\n",
    "                rating = -1 #You need to set a \"not found value. It's important.\"\n",
    "\n",
    "            #Printing for debugging\n",
    "            if verbose:\n",
    "                print(\"Job Title: {}\".format(job_title))\n",
    "                print(\"Salary Estimate: {}\".format(salary_estimate))\n",
    "                print(\"Job Description: {}\".format(job_description[:500]))\n",
    "                print(\"Rating: {}\".format(rating))\n",
    "                print(\"Company Name: {}\".format(company_name))\n",
    "                print(\"Location: {}\".format(location))\n",
    "\n",
    "            #Going to the Company tab...\n",
    "            #clicking on this:\n",
    "            #<div class=\"tab\" data-tab-type=\"overview\"><span>Company</span></div>\n",
    "            try:\n",
    "                driver.find_element_by_xpath('.//div[@class=\"tab\" and @data-tab-type=\"overview\"]').click()\n",
    "\n",
    "                try:\n",
    "                    #<div class=\"infoEntity\">\n",
    "                    #    <label>Headquarters</label>\n",
    "                    #    <span class=\"value\">San Francisco, CA</span>\n",
    "                    #</div>\n",
    "                    headquarters = driver.find_element_by_xpath('.//div[@class=\"infoEntity\"]//label[text()=\"Headquarters\"]//following-sibling::*').text\n",
    "                except NoSuchElementException:\n",
    "                    headquarters = -1\n",
    "\n",
    "                try:\n",
    "                    size = driver.find_element_by_xpath('.//div[@class=\"infoEntity\"]//label[text()=\"Size\"]//following-sibling::*').text\n",
    "                except NoSuchElementException:\n",
    "                    size = -1\n",
    "\n",
    "                try:\n",
    "                    founded = driver.find_element_by_xpath('.//div[@class=\"infoEntity\"]//label[text()=\"Founded\"]//following-sibling::*').text\n",
    "                except NoSuchElementException:\n",
    "                    founded = -1\n",
    "\n",
    "                try:\n",
    "                    type_of_ownership = driver.find_element_by_xpath('.//div[@class=\"infoEntity\"]//label[text()=\"Type\"]//following-sibling::*').text\n",
    "                except NoSuchElementException:\n",
    "                    type_of_ownership = -1\n",
    "\n",
    "                try:\n",
    "                    industry = driver.find_element_by_xpath('.//div[@class=\"infoEntity\"]//label[text()=\"Industry\"]//following-sibling::*').text\n",
    "                except NoSuchElementException:\n",
    "                    industry = -1\n",
    "\n",
    "                try:\n",
    "                    sector = driver.find_element_by_xpath('.//div[@class=\"infoEntity\"]//label[text()=\"Sector\"]//following-sibling::*').text\n",
    "                except NoSuchElementException:\n",
    "                    sector = -1\n",
    "\n",
    "                try:\n",
    "                    revenue = driver.find_element_by_xpath('.//div[@class=\"infoEntity\"]//label[text()=\"Revenue\"]//following-sibling::*').text\n",
    "                except NoSuchElementException:\n",
    "                    revenue = -1\n",
    "\n",
    "                try:\n",
    "                    competitors = driver.find_element_by_xpath('.//div[@class=\"infoEntity\"]//label[text()=\"Competitors\"]//following-sibling::*').text\n",
    "                except NoSuchElementException:\n",
    "                    competitors = -1\n",
    "\n",
    "            except NoSuchElementException:  #Rarely, some job postings do not have the \"Company\" tab.\n",
    "                headquarters = -1\n",
    "                size = -1\n",
    "                founded = -1\n",
    "                type_of_ownership = -1\n",
    "                industry = -1\n",
    "                sector = -1\n",
    "                revenue = -1\n",
    "                competitors = -1\n",
    "\n",
    "                \n",
    "            if verbose:\n",
    "                print(\"Headquarters: {}\".format(headquarters))\n",
    "                print(\"Size: {}\".format(size))\n",
    "                print(\"Founded: {}\".format(founded))\n",
    "                print(\"Type of Ownership: {}\".format(type_of_ownership))\n",
    "                print(\"Industry: {}\".format(industry))\n",
    "                print(\"Sector: {}\".format(sector))\n",
    "                print(\"Revenue: {}\".format(revenue))\n",
    "                print(\"Competitors: {}\".format(competitors))\n",
    "                print(\"@@@@@@@@@@@@@@@@@@@@@@@@@@@@@@@@@@@@@@@@@@@@@@@@@@@@\")\n",
    "\n",
    "            jobs.append({\"Job Title\" : job_title,\n",
    "            \"Salary Estimate\" : salary_estimate,\n",
    "            \"Job Description\" : job_description,\n",
    "            \"Rating\" : rating,\n",
    "            \"Company Name\" : company_name,\n",
    "            \"Location\" : location,\n",
    "            \"Headquarters\" : headquarters,\n",
    "            \"Size\" : size,\n",
    "            \"Founded\" : founded,\n",
    "            \"Type of ownership\" : type_of_ownership,\n",
    "            \"Industry\" : industry,\n",
    "            \"Sector\" : sector,\n",
    "            \"Revenue\" : revenue,\n",
    "            \"Competitors\" : competitors})\n",
    "            #add job to jobs\n",
    "            \n",
    "            \n",
    "        #Clicking on the \"next page\" button\n",
    "        try:\n",
    "            driver.find_element_by_xpath('.//li[@class=\"next\"]//a').click()\n",
    "        except NoSuchElementException:\n",
    "            print(\"Scraping terminated before reaching target number of jobs. Needed {}, got {}.\".format(num_jobs, len(jobs)))\n",
    "            break\n",
    "\n",
    "    return pd.DataFrame(jobs)  #This line converts the dictionary object into a pandas DataFrame."
   ]
  },
  {
   "cell_type": "code",
   "execution_count": 2,
   "metadata": {},
   "outputs": [
    {
     "name": "stdout",
     "output_type": "stream",
     "text": [
      " x out worked\n",
      "Progress: 0/1\n",
      "Progress: 1/1\n"
     ]
    }
   ],
   "source": [
    "path = r\"C:/Users/Acer/chromedriver_win32/chromedriver.exe\"\n",
    "df = get_jobs('data scientist',1, False, path, 15)\n",
    "\n"
   ]
  },
  {
   "cell_type": "code",
   "execution_count": 3,
   "metadata": {},
   "outputs": [
    {
     "data": {
      "text/html": [
       "<div>\n",
       "<style scoped>\n",
       "    .dataframe tbody tr th:only-of-type {\n",
       "        vertical-align: middle;\n",
       "    }\n",
       "\n",
       "    .dataframe tbody tr th {\n",
       "        vertical-align: top;\n",
       "    }\n",
       "\n",
       "    .dataframe thead th {\n",
       "        text-align: right;\n",
       "    }\n",
       "</style>\n",
       "<table border=\"1\" class=\"dataframe\">\n",
       "  <thead>\n",
       "    <tr style=\"text-align: right;\">\n",
       "      <th></th>\n",
       "      <th>Job Title</th>\n",
       "      <th>Salary Estimate</th>\n",
       "      <th>Job Description</th>\n",
       "      <th>Rating</th>\n",
       "      <th>Company Name</th>\n",
       "      <th>Location</th>\n",
       "      <th>Headquarters</th>\n",
       "      <th>Size</th>\n",
       "      <th>Founded</th>\n",
       "      <th>Type of ownership</th>\n",
       "      <th>Industry</th>\n",
       "      <th>Sector</th>\n",
       "      <th>Revenue</th>\n",
       "      <th>Competitors</th>\n",
       "    </tr>\n",
       "  </thead>\n",
       "  <tbody>\n",
       "    <tr>\n",
       "      <th>0</th>\n",
       "      <td>Data Scientist</td>\n",
       "      <td>-1</td>\n",
       "      <td>At Farm Credit Mid-America, we believe people ...</td>\n",
       "      <td>4.1</td>\n",
       "      <td>Farm Credit Mid-America\\n4.1</td>\n",
       "      <td>Louisville, KY</td>\n",
       "      <td>-1</td>\n",
       "      <td>1001 to 5000 Employees</td>\n",
       "      <td>1985</td>\n",
       "      <td>Company - Private</td>\n",
       "      <td>Lending</td>\n",
       "      <td>Finance</td>\n",
       "      <td>$100 to $500 million (USD)</td>\n",
       "      <td>-1</td>\n",
       "    </tr>\n",
       "  </tbody>\n",
       "</table>\n",
       "</div>"
      ],
      "text/plain": [
       "        Job Title  Salary Estimate  \\\n",
       "0  Data Scientist               -1   \n",
       "\n",
       "                                     Job Description Rating  \\\n",
       "0  At Farm Credit Mid-America, we believe people ...    4.1   \n",
       "\n",
       "                   Company Name        Location  Headquarters  \\\n",
       "0  Farm Credit Mid-America\\n4.1  Louisville, KY            -1   \n",
       "\n",
       "                     Size Founded  Type of ownership Industry   Sector  \\\n",
       "0  1001 to 5000 Employees    1985  Company - Private  Lending  Finance   \n",
       "\n",
       "                      Revenue  Competitors  \n",
       "0  $100 to $500 million (USD)           -1  "
      ]
     },
     "execution_count": 3,
     "metadata": {},
     "output_type": "execute_result"
    }
   ],
   "source": [
    "df"
   ]
  },
  {
   "cell_type": "code",
   "execution_count": 7,
   "metadata": {},
   "outputs": [],
   "source": [
    "options = webdriver.ChromeOptions()\n",
    "    \n",
    "    #Uncomment the line below if you'd like to scrape without a new Chrome window every time.\n",
    "    #options.add_argument('headless')\n",
    "    \n",
    "    #Change the path to where chromedriver is in your home folder.\n",
    "driver = webdriver.Chrome(executable_path=path, options=options)\n",
    "driver.set_window_size(1120, 1000)\n",
    "    \n",
    "url = \"https://www.glassdoor.com/Job/jobs.htm?suggestCount=0&suggestChosen=false&clickSource=searchBtn&typedKeyword=\"+\"data\"+\"&sc.keyword=\"+\"scientist\"+\"&locT=&locId=&jobType=\"\n",
    "    #url = 'https://www.glassdoor.com/Job/jobs.htm?sc.keyword=\"' + keyword + '\"&locT=C&locId=1147401&locKeyword=San%20Francisco,%20CA&jobType=all&fromAge=-1&minSalary=0&includeNoSalaryJobs=true&radius=100&cityId=-1&minRating=0.0&industryId=-1&sgocId=-1&seniorityType=all&companyId=-1&employerSizes=0&applicationType=0&remoteWorkType=0'\n",
    "driver.get(url)\n",
    "jobs = []"
   ]
  },
  {
   "cell_type": "code",
   "execution_count": 17,
   "metadata": {},
   "outputs": [],
   "source": [
    "job_buttons = driver.find_elements_by_class_name(\"jl\")  #jl for Job Listing. These are the buttons we're going to click.\n"
   ]
  },
  {
   "cell_type": "code",
   "execution_count": 12,
   "metadata": {},
   "outputs": [
    {
     "data": {
      "text/plain": [
       "[<selenium.webdriver.remote.webelement.WebElement (session=\"c6dc4caa1a258bb8b34e7f90842c0796\", element=\"b6568230-8f26-4fa6-8d34-9b4dffcf90bd\")>,\n",
       " <selenium.webdriver.remote.webelement.WebElement (session=\"c6dc4caa1a258bb8b34e7f90842c0796\", element=\"0387f19a-a18c-485b-a399-c3633d4a629a\")>,\n",
       " <selenium.webdriver.remote.webelement.WebElement (session=\"c6dc4caa1a258bb8b34e7f90842c0796\", element=\"51d26c1e-acb2-40f7-9f99-59fbe4a1ee1f\")>,\n",
       " <selenium.webdriver.remote.webelement.WebElement (session=\"c6dc4caa1a258bb8b34e7f90842c0796\", element=\"b7583b4f-a100-4cd5-8b08-c88beefe9fd9\")>,\n",
       " <selenium.webdriver.remote.webelement.WebElement (session=\"c6dc4caa1a258bb8b34e7f90842c0796\", element=\"080d68b8-85fd-46f9-805e-d527e7e4e4d1\")>]"
      ]
     },
     "execution_count": 12,
     "metadata": {},
     "output_type": "execute_result"
    }
   ],
   "source": [
    "job_buttons[:5]"
   ]
  },
  {
   "cell_type": "code",
   "execution_count": 19,
   "metadata": {},
   "outputs": [
    {
     "ename": "TypeError",
     "evalue": "'WebElement' object is not iterable",
     "output_type": "error",
     "traceback": [
      "\u001b[1;31m---------------------------------------------------------------------------\u001b[0m",
      "\u001b[1;31mTypeError\u001b[0m                                 Traceback (most recent call last)",
      "\u001b[1;32m<ipython-input-19-f3738f9d6777>\u001b[0m in \u001b[0;36m<module>\u001b[1;34m\u001b[0m\n\u001b[0;32m      1\u001b[0m \u001b[0mtitle\u001b[0m\u001b[1;33m=\u001b[0m\u001b[1;33m[\u001b[0m\u001b[1;33m]\u001b[0m\u001b[1;33m\u001b[0m\u001b[1;33m\u001b[0m\u001b[0m\n\u001b[1;32m----> 2\u001b[1;33m \u001b[1;32mfor\u001b[0m \u001b[0mjob_button\u001b[0m \u001b[1;32min\u001b[0m \u001b[0mjob_buttons\u001b[0m\u001b[1;33m[\u001b[0m\u001b[1;36m0\u001b[0m\u001b[1;33m]\u001b[0m\u001b[1;33m:\u001b[0m\u001b[1;33m\u001b[0m\u001b[1;33m\u001b[0m\u001b[0m\n\u001b[0m\u001b[0;32m      3\u001b[0m     \u001b[0mcompany_name\u001b[0m \u001b[1;33m=\u001b[0m \u001b[0mdriver\u001b[0m\u001b[1;33m.\u001b[0m\u001b[0mfind_element_by_xpath\u001b[0m\u001b[1;33m(\u001b[0m\u001b[1;34m'.//div[@class=\"employerName\"]'\u001b[0m\u001b[1;33m)\u001b[0m\u001b[1;33m.\u001b[0m\u001b[0mtext\u001b[0m\u001b[1;33m\u001b[0m\u001b[1;33m\u001b[0m\u001b[0m\n\u001b[0;32m      4\u001b[0m     \u001b[0mjob_button\u001b[0m\u001b[1;33m.\u001b[0m\u001b[0mclick\u001b[0m\u001b[1;33m(\u001b[0m\u001b[1;33m)\u001b[0m  \u001b[1;31m#You might\u001b[0m\u001b[1;33m\u001b[0m\u001b[1;33m\u001b[0m\u001b[0m\n\u001b[0;32m      5\u001b[0m     \u001b[0mtitle\u001b[0m\u001b[1;33m.\u001b[0m\u001b[0mappend\u001b[0m\u001b[1;33m(\u001b[0m\u001b[0mcompany_name\u001b[0m\u001b[1;33m)\u001b[0m\u001b[1;33m\u001b[0m\u001b[1;33m\u001b[0m\u001b[0m\n",
      "\u001b[1;31mTypeError\u001b[0m: 'WebElement' object is not iterable"
     ]
    }
   ],
   "source": [
    "title=[]\n",
    "for job_button in job_buttons[:0]:  \n",
    "    company_name = driver.find_element_by_xpath('.//div[@class=\"employerName\"]').text\n",
    "    job_button.click()  #You might\n",
    "    title.append(company_name)\n",
    "    "
   ]
  },
  {
   "cell_type": "code",
   "execution_count": 15,
   "metadata": {},
   "outputs": [
    {
     "data": {
      "text/plain": [
       "['Laticrete International\\n3.5',\n",
       " 'Laticrete International\\n3.5',\n",
       " 'Laticrete International\\n3.5',\n",
       " 'NOAH Associates, Inc.',\n",
       " 'Therini Bio, Inc.']"
      ]
     },
     "execution_count": 15,
     "metadata": {},
     "output_type": "execute_result"
    }
   ],
   "source": [
    "title"
   ]
  },
  {
   "cell_type": "code",
   "execution_count": 18,
   "metadata": {},
   "outputs": [
    {
     "data": {
      "text/plain": [
       "[<selenium.webdriver.remote.webelement.WebElement (session=\"c6dc4caa1a258bb8b34e7f90842c0796\", element=\"b6568230-8f26-4fa6-8d34-9b4dffcf90bd\")>,\n",
       " <selenium.webdriver.remote.webelement.WebElement (session=\"c6dc4caa1a258bb8b34e7f90842c0796\", element=\"0387f19a-a18c-485b-a399-c3633d4a629a\")>,\n",
       " <selenium.webdriver.remote.webelement.WebElement (session=\"c6dc4caa1a258bb8b34e7f90842c0796\", element=\"51d26c1e-acb2-40f7-9f99-59fbe4a1ee1f\")>,\n",
       " <selenium.webdriver.remote.webelement.WebElement (session=\"c6dc4caa1a258bb8b34e7f90842c0796\", element=\"b7583b4f-a100-4cd5-8b08-c88beefe9fd9\")>,\n",
       " <selenium.webdriver.remote.webelement.WebElement (session=\"c6dc4caa1a258bb8b34e7f90842c0796\", element=\"080d68b8-85fd-46f9-805e-d527e7e4e4d1\")>,\n",
       " <selenium.webdriver.remote.webelement.WebElement (session=\"c6dc4caa1a258bb8b34e7f90842c0796\", element=\"bfadd7bd-44b7-4982-b7f7-445676b1c176\")>,\n",
       " <selenium.webdriver.remote.webelement.WebElement (session=\"c6dc4caa1a258bb8b34e7f90842c0796\", element=\"532fa935-37d6-407c-a91f-ff6733f3396a\")>,\n",
       " <selenium.webdriver.remote.webelement.WebElement (session=\"c6dc4caa1a258bb8b34e7f90842c0796\", element=\"87613bbf-2f3c-4ef6-833d-79169f1dd1f4\")>,\n",
       " <selenium.webdriver.remote.webelement.WebElement (session=\"c6dc4caa1a258bb8b34e7f90842c0796\", element=\"262f6519-8e7c-4f3a-8b38-0641d9a2a923\")>,\n",
       " <selenium.webdriver.remote.webelement.WebElement (session=\"c6dc4caa1a258bb8b34e7f90842c0796\", element=\"6540ce49-4d6d-49e1-95f0-812396037ac0\")>,\n",
       " <selenium.webdriver.remote.webelement.WebElement (session=\"c6dc4caa1a258bb8b34e7f90842c0796\", element=\"dfa83169-f7b8-4c55-a90d-8d1c70f62901\")>,\n",
       " <selenium.webdriver.remote.webelement.WebElement (session=\"c6dc4caa1a258bb8b34e7f90842c0796\", element=\"771f3a3c-74ac-4517-b00e-40bb2e6c14ef\")>,\n",
       " <selenium.webdriver.remote.webelement.WebElement (session=\"c6dc4caa1a258bb8b34e7f90842c0796\", element=\"21af1884-eaf8-46cc-a7b7-daba59c818da\")>,\n",
       " <selenium.webdriver.remote.webelement.WebElement (session=\"c6dc4caa1a258bb8b34e7f90842c0796\", element=\"31845349-4889-4176-a782-4451ed497048\")>,\n",
       " <selenium.webdriver.remote.webelement.WebElement (session=\"c6dc4caa1a258bb8b34e7f90842c0796\", element=\"5bd7392b-3baf-4fd9-8f2a-2bafe4f2288f\")>,\n",
       " <selenium.webdriver.remote.webelement.WebElement (session=\"c6dc4caa1a258bb8b34e7f90842c0796\", element=\"11e54791-9a40-4a9d-b3e0-388d8f21f60c\")>,\n",
       " <selenium.webdriver.remote.webelement.WebElement (session=\"c6dc4caa1a258bb8b34e7f90842c0796\", element=\"53a740b6-e6b9-49a3-9fce-6ce9389a769f\")>,\n",
       " <selenium.webdriver.remote.webelement.WebElement (session=\"c6dc4caa1a258bb8b34e7f90842c0796\", element=\"741a50a2-5907-4eba-aa62-df42c266d3cc\")>,\n",
       " <selenium.webdriver.remote.webelement.WebElement (session=\"c6dc4caa1a258bb8b34e7f90842c0796\", element=\"09ef9c38-d4eb-4017-a9f3-f805a0cbd7bc\")>,\n",
       " <selenium.webdriver.remote.webelement.WebElement (session=\"c6dc4caa1a258bb8b34e7f90842c0796\", element=\"fecdb628-06bb-49e1-8f3c-ecb5b667cda9\")>,\n",
       " <selenium.webdriver.remote.webelement.WebElement (session=\"c6dc4caa1a258bb8b34e7f90842c0796\", element=\"ae508fa2-9e46-4027-8c51-a350ed07ccaa\")>,\n",
       " <selenium.webdriver.remote.webelement.WebElement (session=\"c6dc4caa1a258bb8b34e7f90842c0796\", element=\"8844dab3-c3ee-430d-b35d-61849feab692\")>,\n",
       " <selenium.webdriver.remote.webelement.WebElement (session=\"c6dc4caa1a258bb8b34e7f90842c0796\", element=\"4e97113c-f6dc-4a04-bf87-8d5a385f52c9\")>,\n",
       " <selenium.webdriver.remote.webelement.WebElement (session=\"c6dc4caa1a258bb8b34e7f90842c0796\", element=\"01cf6ac9-bce2-46d3-97d4-7e362cbe8e6d\")>,\n",
       " <selenium.webdriver.remote.webelement.WebElement (session=\"c6dc4caa1a258bb8b34e7f90842c0796\", element=\"ae580126-c65c-4f57-93b1-01aa56edcef5\")>,\n",
       " <selenium.webdriver.remote.webelement.WebElement (session=\"c6dc4caa1a258bb8b34e7f90842c0796\", element=\"17de3a96-af7e-4c1f-a225-3245d6eff6db\")>,\n",
       " <selenium.webdriver.remote.webelement.WebElement (session=\"c6dc4caa1a258bb8b34e7f90842c0796\", element=\"2505c5e6-67b7-40f6-ae11-fb0181fa0d33\")>,\n",
       " <selenium.webdriver.remote.webelement.WebElement (session=\"c6dc4caa1a258bb8b34e7f90842c0796\", element=\"75b47b69-d8f7-4168-a731-f854394899e0\")>,\n",
       " <selenium.webdriver.remote.webelement.WebElement (session=\"c6dc4caa1a258bb8b34e7f90842c0796\", element=\"d3001acd-f705-4959-8e38-5bdb976797f7\")>,\n",
       " <selenium.webdriver.remote.webelement.WebElement (session=\"c6dc4caa1a258bb8b34e7f90842c0796\", element=\"5418dde8-a2a3-47b4-b4f7-db395680d6bd\")>]"
      ]
     },
     "execution_count": 18,
     "metadata": {},
     "output_type": "execute_result"
    }
   ],
   "source": [
    "job_buttons"
   ]
  },
  {
   "cell_type": "code",
   "execution_count": null,
   "metadata": {
    "collapsed": true
   },
   "outputs": [],
   "source": []
  },
  {
   "cell_type": "code",
   "execution_count": null,
   "metadata": {},
   "outputs": [],
   "source": []
  }
 ],
 "metadata": {
  "kernelspec": {
   "display_name": "Python 3",
   "language": "python",
   "name": "python3"
  },
  "language_info": {
   "codemirror_mode": {
    "name": "ipython",
    "version": 3
   },
   "file_extension": ".py",
   "mimetype": "text/x-python",
   "name": "python",
   "nbconvert_exporter": "python",
   "pygments_lexer": "ipython3",
   "version": "3.7.6"
  }
 },
 "nbformat": 4,
 "nbformat_minor": 4
}
